{
 "cells": [
  {
   "cell_type": "markdown",
   "id": "952613f7",
   "metadata": {},
   "source": [
    "# Определение стоимости автомобилей"
   ]
  },
  {
   "cell_type": "markdown",
   "id": "435091f7",
   "metadata": {},
   "source": [
    "Сервис по продаже автомобилей с пробегом разрабатывает приложение для привлечения новых клиентов. В нём можно быстро узнать рыночную стоимость своего автомобиля. В вашем распоряжении исторические данные: технические характеристики, комплектации и цены автомобилей. Вам нужно построить модель для определения стоимости. \n",
    "\n",
    "Заказчику важны:\n",
    "\n",
    "- качество предсказания;\n",
    "- скорость предсказания;\n",
    "- время обучения."
   ]
  },
  {
   "cell_type": "markdown",
   "id": "3565fd10",
   "metadata": {},
   "source": [
    "## Подготовка данных"
   ]
  },
  {
   "cell_type": "markdown",
   "id": "f6a06514",
   "metadata": {},
   "source": [
    "### Знакомство с данными"
   ]
  },
  {
   "cell_type": "code",
   "execution_count": 1,
   "id": "c92cb13b",
   "metadata": {},
   "outputs": [],
   "source": [
    "import pandas as pd\n",
    "import seaborn as sns\n",
    "import numpy as np\n",
    "from matplotlib import pyplot as plt\n",
    "from sklearn.model_selection import train_test_split\n",
    "from sklearn.preprocessing import OrdinalEncoder\n",
    "from sklearn.preprocessing import StandardScaler\n",
    "from sklearn.metrics import mean_squared_error\n",
    "from sklearn.model_selection import GridSearchCV\n",
    "from sklearn.ensemble import RandomForestRegressor\n",
    "from catboost import CatBoostRegressor\n",
    "import lightgbm as lgb\n",
    "from lightgbm import LGBMRegressor\n",
    "import time\n",
    "import warnings\n",
    "warnings.filterwarnings('ignore')"
   ]
  },
  {
   "cell_type": "code",
   "execution_count": 2,
   "id": "0f148554",
   "metadata": {},
   "outputs": [],
   "source": [
    "data = pd.read_csv('/datasets/autos.csv')"
   ]
  },
  {
   "cell_type": "code",
   "execution_count": 3,
   "id": "72a43a0c",
   "metadata": {},
   "outputs": [
    {
     "data": {
      "text/html": [
       "<div>\n",
       "<style scoped>\n",
       "    .dataframe tbody tr th:only-of-type {\n",
       "        vertical-align: middle;\n",
       "    }\n",
       "\n",
       "    .dataframe tbody tr th {\n",
       "        vertical-align: top;\n",
       "    }\n",
       "\n",
       "    .dataframe thead th {\n",
       "        text-align: right;\n",
       "    }\n",
       "</style>\n",
       "<table border=\"1\" class=\"dataframe\">\n",
       "  <thead>\n",
       "    <tr style=\"text-align: right;\">\n",
       "      <th></th>\n",
       "      <th>DateCrawled</th>\n",
       "      <th>Price</th>\n",
       "      <th>VehicleType</th>\n",
       "      <th>RegistrationYear</th>\n",
       "      <th>Gearbox</th>\n",
       "      <th>Power</th>\n",
       "      <th>Model</th>\n",
       "      <th>Kilometer</th>\n",
       "      <th>RegistrationMonth</th>\n",
       "      <th>FuelType</th>\n",
       "      <th>Brand</th>\n",
       "      <th>Repaired</th>\n",
       "      <th>DateCreated</th>\n",
       "      <th>NumberOfPictures</th>\n",
       "      <th>PostalCode</th>\n",
       "      <th>LastSeen</th>\n",
       "    </tr>\n",
       "  </thead>\n",
       "  <tbody>\n",
       "    <tr>\n",
       "      <th>0</th>\n",
       "      <td>2016-03-24 11:52:17</td>\n",
       "      <td>480</td>\n",
       "      <td>NaN</td>\n",
       "      <td>1993</td>\n",
       "      <td>manual</td>\n",
       "      <td>0</td>\n",
       "      <td>golf</td>\n",
       "      <td>150000</td>\n",
       "      <td>0</td>\n",
       "      <td>petrol</td>\n",
       "      <td>volkswagen</td>\n",
       "      <td>NaN</td>\n",
       "      <td>2016-03-24 00:00:00</td>\n",
       "      <td>0</td>\n",
       "      <td>70435</td>\n",
       "      <td>2016-04-07 03:16:57</td>\n",
       "    </tr>\n",
       "    <tr>\n",
       "      <th>1</th>\n",
       "      <td>2016-03-24 10:58:45</td>\n",
       "      <td>18300</td>\n",
       "      <td>coupe</td>\n",
       "      <td>2011</td>\n",
       "      <td>manual</td>\n",
       "      <td>190</td>\n",
       "      <td>NaN</td>\n",
       "      <td>125000</td>\n",
       "      <td>5</td>\n",
       "      <td>gasoline</td>\n",
       "      <td>audi</td>\n",
       "      <td>yes</td>\n",
       "      <td>2016-03-24 00:00:00</td>\n",
       "      <td>0</td>\n",
       "      <td>66954</td>\n",
       "      <td>2016-04-07 01:46:50</td>\n",
       "    </tr>\n",
       "    <tr>\n",
       "      <th>2</th>\n",
       "      <td>2016-03-14 12:52:21</td>\n",
       "      <td>9800</td>\n",
       "      <td>suv</td>\n",
       "      <td>2004</td>\n",
       "      <td>auto</td>\n",
       "      <td>163</td>\n",
       "      <td>grand</td>\n",
       "      <td>125000</td>\n",
       "      <td>8</td>\n",
       "      <td>gasoline</td>\n",
       "      <td>jeep</td>\n",
       "      <td>NaN</td>\n",
       "      <td>2016-03-14 00:00:00</td>\n",
       "      <td>0</td>\n",
       "      <td>90480</td>\n",
       "      <td>2016-04-05 12:47:46</td>\n",
       "    </tr>\n",
       "    <tr>\n",
       "      <th>3</th>\n",
       "      <td>2016-03-17 16:54:04</td>\n",
       "      <td>1500</td>\n",
       "      <td>small</td>\n",
       "      <td>2001</td>\n",
       "      <td>manual</td>\n",
       "      <td>75</td>\n",
       "      <td>golf</td>\n",
       "      <td>150000</td>\n",
       "      <td>6</td>\n",
       "      <td>petrol</td>\n",
       "      <td>volkswagen</td>\n",
       "      <td>no</td>\n",
       "      <td>2016-03-17 00:00:00</td>\n",
       "      <td>0</td>\n",
       "      <td>91074</td>\n",
       "      <td>2016-03-17 17:40:17</td>\n",
       "    </tr>\n",
       "    <tr>\n",
       "      <th>4</th>\n",
       "      <td>2016-03-31 17:25:20</td>\n",
       "      <td>3600</td>\n",
       "      <td>small</td>\n",
       "      <td>2008</td>\n",
       "      <td>manual</td>\n",
       "      <td>69</td>\n",
       "      <td>fabia</td>\n",
       "      <td>90000</td>\n",
       "      <td>7</td>\n",
       "      <td>gasoline</td>\n",
       "      <td>skoda</td>\n",
       "      <td>no</td>\n",
       "      <td>2016-03-31 00:00:00</td>\n",
       "      <td>0</td>\n",
       "      <td>60437</td>\n",
       "      <td>2016-04-06 10:17:21</td>\n",
       "    </tr>\n",
       "  </tbody>\n",
       "</table>\n",
       "</div>"
      ],
      "text/plain": [
       "           DateCrawled  Price VehicleType  RegistrationYear Gearbox  Power  \\\n",
       "0  2016-03-24 11:52:17    480         NaN              1993  manual      0   \n",
       "1  2016-03-24 10:58:45  18300       coupe              2011  manual    190   \n",
       "2  2016-03-14 12:52:21   9800         suv              2004    auto    163   \n",
       "3  2016-03-17 16:54:04   1500       small              2001  manual     75   \n",
       "4  2016-03-31 17:25:20   3600       small              2008  manual     69   \n",
       "\n",
       "   Model  Kilometer  RegistrationMonth  FuelType       Brand Repaired  \\\n",
       "0   golf     150000                  0    petrol  volkswagen      NaN   \n",
       "1    NaN     125000                  5  gasoline        audi      yes   \n",
       "2  grand     125000                  8  gasoline        jeep      NaN   \n",
       "3   golf     150000                  6    petrol  volkswagen       no   \n",
       "4  fabia      90000                  7  gasoline       skoda       no   \n",
       "\n",
       "           DateCreated  NumberOfPictures  PostalCode             LastSeen  \n",
       "0  2016-03-24 00:00:00                 0       70435  2016-04-07 03:16:57  \n",
       "1  2016-03-24 00:00:00                 0       66954  2016-04-07 01:46:50  \n",
       "2  2016-03-14 00:00:00                 0       90480  2016-04-05 12:47:46  \n",
       "3  2016-03-17 00:00:00                 0       91074  2016-03-17 17:40:17  \n",
       "4  2016-03-31 00:00:00                 0       60437  2016-04-06 10:17:21  "
      ]
     },
     "execution_count": 3,
     "metadata": {},
     "output_type": "execute_result"
    }
   ],
   "source": [
    "data.head()"
   ]
  },
  {
   "cell_type": "code",
   "execution_count": 4,
   "id": "c08c3359",
   "metadata": {},
   "outputs": [
    {
     "name": "stdout",
     "output_type": "stream",
     "text": [
      "<class 'pandas.core.frame.DataFrame'>\n",
      "RangeIndex: 354369 entries, 0 to 354368\n",
      "Data columns (total 16 columns):\n",
      " #   Column             Non-Null Count   Dtype \n",
      "---  ------             --------------   ----- \n",
      " 0   DateCrawled        354369 non-null  object\n",
      " 1   Price              354369 non-null  int64 \n",
      " 2   VehicleType        316879 non-null  object\n",
      " 3   RegistrationYear   354369 non-null  int64 \n",
      " 4   Gearbox            334536 non-null  object\n",
      " 5   Power              354369 non-null  int64 \n",
      " 6   Model              334664 non-null  object\n",
      " 7   Kilometer          354369 non-null  int64 \n",
      " 8   RegistrationMonth  354369 non-null  int64 \n",
      " 9   FuelType           321474 non-null  object\n",
      " 10  Brand              354369 non-null  object\n",
      " 11  Repaired           283215 non-null  object\n",
      " 12  DateCreated        354369 non-null  object\n",
      " 13  NumberOfPictures   354369 non-null  int64 \n",
      " 14  PostalCode         354369 non-null  int64 \n",
      " 15  LastSeen           354369 non-null  object\n",
      "dtypes: int64(7), object(9)\n",
      "memory usage: 43.3+ MB\n"
     ]
    }
   ],
   "source": [
    "data.info()"
   ]
  },
  {
   "cell_type": "code",
   "execution_count": 5,
   "id": "92a76560",
   "metadata": {},
   "outputs": [
    {
     "data": {
      "text/html": [
       "<div>\n",
       "<style scoped>\n",
       "    .dataframe tbody tr th:only-of-type {\n",
       "        vertical-align: middle;\n",
       "    }\n",
       "\n",
       "    .dataframe tbody tr th {\n",
       "        vertical-align: top;\n",
       "    }\n",
       "\n",
       "    .dataframe thead th {\n",
       "        text-align: right;\n",
       "    }\n",
       "</style>\n",
       "<table border=\"1\" class=\"dataframe\">\n",
       "  <thead>\n",
       "    <tr style=\"text-align: right;\">\n",
       "      <th></th>\n",
       "      <th>Price</th>\n",
       "      <th>RegistrationYear</th>\n",
       "      <th>Power</th>\n",
       "      <th>Kilometer</th>\n",
       "      <th>RegistrationMonth</th>\n",
       "      <th>NumberOfPictures</th>\n",
       "      <th>PostalCode</th>\n",
       "    </tr>\n",
       "  </thead>\n",
       "  <tbody>\n",
       "    <tr>\n",
       "      <th>count</th>\n",
       "      <td>354369.000000</td>\n",
       "      <td>354369.000000</td>\n",
       "      <td>354369.000000</td>\n",
       "      <td>354369.000000</td>\n",
       "      <td>354369.000000</td>\n",
       "      <td>354369.0</td>\n",
       "      <td>354369.000000</td>\n",
       "    </tr>\n",
       "    <tr>\n",
       "      <th>mean</th>\n",
       "      <td>4416.656776</td>\n",
       "      <td>2004.234448</td>\n",
       "      <td>110.094337</td>\n",
       "      <td>128211.172535</td>\n",
       "      <td>5.714645</td>\n",
       "      <td>0.0</td>\n",
       "      <td>50508.689087</td>\n",
       "    </tr>\n",
       "    <tr>\n",
       "      <th>std</th>\n",
       "      <td>4514.158514</td>\n",
       "      <td>90.227958</td>\n",
       "      <td>189.850405</td>\n",
       "      <td>37905.341530</td>\n",
       "      <td>3.726421</td>\n",
       "      <td>0.0</td>\n",
       "      <td>25783.096248</td>\n",
       "    </tr>\n",
       "    <tr>\n",
       "      <th>min</th>\n",
       "      <td>0.000000</td>\n",
       "      <td>1000.000000</td>\n",
       "      <td>0.000000</td>\n",
       "      <td>5000.000000</td>\n",
       "      <td>0.000000</td>\n",
       "      <td>0.0</td>\n",
       "      <td>1067.000000</td>\n",
       "    </tr>\n",
       "    <tr>\n",
       "      <th>25%</th>\n",
       "      <td>1050.000000</td>\n",
       "      <td>1999.000000</td>\n",
       "      <td>69.000000</td>\n",
       "      <td>125000.000000</td>\n",
       "      <td>3.000000</td>\n",
       "      <td>0.0</td>\n",
       "      <td>30165.000000</td>\n",
       "    </tr>\n",
       "    <tr>\n",
       "      <th>50%</th>\n",
       "      <td>2700.000000</td>\n",
       "      <td>2003.000000</td>\n",
       "      <td>105.000000</td>\n",
       "      <td>150000.000000</td>\n",
       "      <td>6.000000</td>\n",
       "      <td>0.0</td>\n",
       "      <td>49413.000000</td>\n",
       "    </tr>\n",
       "    <tr>\n",
       "      <th>75%</th>\n",
       "      <td>6400.000000</td>\n",
       "      <td>2008.000000</td>\n",
       "      <td>143.000000</td>\n",
       "      <td>150000.000000</td>\n",
       "      <td>9.000000</td>\n",
       "      <td>0.0</td>\n",
       "      <td>71083.000000</td>\n",
       "    </tr>\n",
       "    <tr>\n",
       "      <th>max</th>\n",
       "      <td>20000.000000</td>\n",
       "      <td>9999.000000</td>\n",
       "      <td>20000.000000</td>\n",
       "      <td>150000.000000</td>\n",
       "      <td>12.000000</td>\n",
       "      <td>0.0</td>\n",
       "      <td>99998.000000</td>\n",
       "    </tr>\n",
       "  </tbody>\n",
       "</table>\n",
       "</div>"
      ],
      "text/plain": [
       "               Price  RegistrationYear          Power      Kilometer  \\\n",
       "count  354369.000000     354369.000000  354369.000000  354369.000000   \n",
       "mean     4416.656776       2004.234448     110.094337  128211.172535   \n",
       "std      4514.158514         90.227958     189.850405   37905.341530   \n",
       "min         0.000000       1000.000000       0.000000    5000.000000   \n",
       "25%      1050.000000       1999.000000      69.000000  125000.000000   \n",
       "50%      2700.000000       2003.000000     105.000000  150000.000000   \n",
       "75%      6400.000000       2008.000000     143.000000  150000.000000   \n",
       "max     20000.000000       9999.000000   20000.000000  150000.000000   \n",
       "\n",
       "       RegistrationMonth  NumberOfPictures     PostalCode  \n",
       "count      354369.000000          354369.0  354369.000000  \n",
       "mean            5.714645               0.0   50508.689087  \n",
       "std             3.726421               0.0   25783.096248  \n",
       "min             0.000000               0.0    1067.000000  \n",
       "25%             3.000000               0.0   30165.000000  \n",
       "50%             6.000000               0.0   49413.000000  \n",
       "75%             9.000000               0.0   71083.000000  \n",
       "max            12.000000               0.0   99998.000000  "
      ]
     },
     "execution_count": 5,
     "metadata": {},
     "output_type": "execute_result"
    }
   ],
   "source": [
    "data.describe()"
   ]
  },
  {
   "cell_type": "code",
   "execution_count": 6,
   "id": "3b446b00",
   "metadata": {},
   "outputs": [
    {
     "data": {
      "text/plain": [
       "DateCrawled           0.000000\n",
       "Price                 0.000000\n",
       "VehicleType          10.579368\n",
       "RegistrationYear      0.000000\n",
       "Gearbox               5.596709\n",
       "Power                 0.000000\n",
       "Model                 5.560588\n",
       "Kilometer             0.000000\n",
       "RegistrationMonth     0.000000\n",
       "FuelType              9.282697\n",
       "Brand                 0.000000\n",
       "Repaired             20.079070\n",
       "DateCreated           0.000000\n",
       "NumberOfPictures      0.000000\n",
       "PostalCode            0.000000\n",
       "LastSeen              0.000000\n",
       "dtype: float64"
      ]
     },
     "execution_count": 6,
     "metadata": {},
     "output_type": "execute_result"
    }
   ],
   "source": [
    "((data.isna().sum())/len(data))*100"
   ]
  },
  {
   "cell_type": "markdown",
   "id": "3b8f40c6",
   "metadata": {},
   "source": [
    "### Работа с пропусками и дубликатами"
   ]
  },
  {
   "cell_type": "code",
   "execution_count": 7,
   "id": "e45eb64e",
   "metadata": {},
   "outputs": [
    {
     "data": {
      "text/plain": [
       "4"
      ]
     },
     "execution_count": 7,
     "metadata": {},
     "output_type": "execute_result"
    }
   ],
   "source": [
    "data.duplicated().sum()"
   ]
  },
  {
   "cell_type": "code",
   "execution_count": 8,
   "id": "e9f1aa7e",
   "metadata": {},
   "outputs": [],
   "source": [
    "data = data.drop_duplicates()"
   ]
  },
  {
   "cell_type": "code",
   "execution_count": 9,
   "id": "b22b7b73",
   "metadata": {},
   "outputs": [
    {
     "data": {
      "text/plain": [
       "Index(['DateCrawled', 'Price', 'VehicleType', 'RegistrationYear', 'Gearbox',\n",
       "       'Power', 'Model', 'Kilometer', 'RegistrationMonth', 'FuelType', 'Brand',\n",
       "       'Repaired', 'DateCreated', 'NumberOfPictures', 'PostalCode',\n",
       "       'LastSeen'],\n",
       "      dtype='object')"
      ]
     },
     "execution_count": 9,
     "metadata": {},
     "output_type": "execute_result"
    }
   ],
   "source": [
    "data.columns"
   ]
  },
  {
   "cell_type": "markdown",
   "id": "21d726cb",
   "metadata": {},
   "source": [
    "**Удалим ненужные столбцы**"
   ]
  },
  {
   "cell_type": "code",
   "execution_count": 10,
   "id": "03529406",
   "metadata": {},
   "outputs": [],
   "source": [
    "columns_to_drop = ['DateCrawled','RegistrationMonth','DateCreated','NumberOfPictures','PostalCode','LastSeen']"
   ]
  },
  {
   "cell_type": "code",
   "execution_count": 11,
   "id": "2f48f9f8",
   "metadata": {},
   "outputs": [],
   "source": [
    "data = data.drop(columns_to_drop, axis=1)"
   ]
  },
  {
   "cell_type": "code",
   "execution_count": 12,
   "id": "81135c59",
   "metadata": {},
   "outputs": [
    {
     "data": {
      "text/html": [
       "<div>\n",
       "<style scoped>\n",
       "    .dataframe tbody tr th:only-of-type {\n",
       "        vertical-align: middle;\n",
       "    }\n",
       "\n",
       "    .dataframe tbody tr th {\n",
       "        vertical-align: top;\n",
       "    }\n",
       "\n",
       "    .dataframe thead th {\n",
       "        text-align: right;\n",
       "    }\n",
       "</style>\n",
       "<table border=\"1\" class=\"dataframe\">\n",
       "  <thead>\n",
       "    <tr style=\"text-align: right;\">\n",
       "      <th></th>\n",
       "      <th>Price</th>\n",
       "      <th>VehicleType</th>\n",
       "      <th>RegistrationYear</th>\n",
       "      <th>Gearbox</th>\n",
       "      <th>Power</th>\n",
       "      <th>Model</th>\n",
       "      <th>Kilometer</th>\n",
       "      <th>FuelType</th>\n",
       "      <th>Brand</th>\n",
       "      <th>Repaired</th>\n",
       "    </tr>\n",
       "  </thead>\n",
       "  <tbody>\n",
       "    <tr>\n",
       "      <th>0</th>\n",
       "      <td>480</td>\n",
       "      <td>NaN</td>\n",
       "      <td>1993</td>\n",
       "      <td>manual</td>\n",
       "      <td>0</td>\n",
       "      <td>golf</td>\n",
       "      <td>150000</td>\n",
       "      <td>petrol</td>\n",
       "      <td>volkswagen</td>\n",
       "      <td>NaN</td>\n",
       "    </tr>\n",
       "    <tr>\n",
       "      <th>1</th>\n",
       "      <td>18300</td>\n",
       "      <td>coupe</td>\n",
       "      <td>2011</td>\n",
       "      <td>manual</td>\n",
       "      <td>190</td>\n",
       "      <td>NaN</td>\n",
       "      <td>125000</td>\n",
       "      <td>gasoline</td>\n",
       "      <td>audi</td>\n",
       "      <td>yes</td>\n",
       "    </tr>\n",
       "    <tr>\n",
       "      <th>2</th>\n",
       "      <td>9800</td>\n",
       "      <td>suv</td>\n",
       "      <td>2004</td>\n",
       "      <td>auto</td>\n",
       "      <td>163</td>\n",
       "      <td>grand</td>\n",
       "      <td>125000</td>\n",
       "      <td>gasoline</td>\n",
       "      <td>jeep</td>\n",
       "      <td>NaN</td>\n",
       "    </tr>\n",
       "    <tr>\n",
       "      <th>3</th>\n",
       "      <td>1500</td>\n",
       "      <td>small</td>\n",
       "      <td>2001</td>\n",
       "      <td>manual</td>\n",
       "      <td>75</td>\n",
       "      <td>golf</td>\n",
       "      <td>150000</td>\n",
       "      <td>petrol</td>\n",
       "      <td>volkswagen</td>\n",
       "      <td>no</td>\n",
       "    </tr>\n",
       "    <tr>\n",
       "      <th>4</th>\n",
       "      <td>3600</td>\n",
       "      <td>small</td>\n",
       "      <td>2008</td>\n",
       "      <td>manual</td>\n",
       "      <td>69</td>\n",
       "      <td>fabia</td>\n",
       "      <td>90000</td>\n",
       "      <td>gasoline</td>\n",
       "      <td>skoda</td>\n",
       "      <td>no</td>\n",
       "    </tr>\n",
       "  </tbody>\n",
       "</table>\n",
       "</div>"
      ],
      "text/plain": [
       "   Price VehicleType  RegistrationYear Gearbox  Power  Model  Kilometer  \\\n",
       "0    480         NaN              1993  manual      0   golf     150000   \n",
       "1  18300       coupe              2011  manual    190    NaN     125000   \n",
       "2   9800         suv              2004    auto    163  grand     125000   \n",
       "3   1500       small              2001  manual     75   golf     150000   \n",
       "4   3600       small              2008  manual     69  fabia      90000   \n",
       "\n",
       "   FuelType       Brand Repaired  \n",
       "0    petrol  volkswagen      NaN  \n",
       "1  gasoline        audi      yes  \n",
       "2  gasoline        jeep      NaN  \n",
       "3    petrol  volkswagen       no  \n",
       "4  gasoline       skoda       no  "
      ]
     },
     "execution_count": 12,
     "metadata": {},
     "output_type": "execute_result"
    }
   ],
   "source": [
    "data.head()"
   ]
  },
  {
   "cell_type": "code",
   "execution_count": 13,
   "id": "238160ce",
   "metadata": {},
   "outputs": [
    {
     "data": {
      "text/plain": [
       "(354365, 10)"
      ]
     },
     "execution_count": 13,
     "metadata": {},
     "output_type": "execute_result"
    }
   ],
   "source": [
    "data.shape"
   ]
  },
  {
   "cell_type": "markdown",
   "id": "103bb811",
   "metadata": {},
   "source": [
    "**Заполнение пропусков в стобце VehicleType**"
   ]
  },
  {
   "cell_type": "code",
   "execution_count": 14,
   "id": "5dff1cc6",
   "metadata": {},
   "outputs": [],
   "source": [
    "data['VehicleType'] = data['VehicleType'].fillna('other')"
   ]
  },
  {
   "cell_type": "markdown",
   "id": "c9740bd0",
   "metadata": {},
   "source": [
    "**Заполнение пропусков в столбце Repaired. При отсутствии значения можно предположить, что машина не была в ремонте**"
   ]
  },
  {
   "cell_type": "code",
   "execution_count": 15,
   "id": "8357ac32",
   "metadata": {},
   "outputs": [],
   "source": [
    "data['Repaired'] = data['Repaired'].fillna('no')"
   ]
  },
  {
   "cell_type": "markdown",
   "id": "02c15061",
   "metadata": {},
   "source": [
    "**В столбце FuelType значения petrol (американский) и gasoline (английский) означают одно и тоже - бензин. Осуществим замену на gasoline**\n",
    "\n",
    "**Похожая ситуация с lpg и cng, это системы работы на газу. Переименуем их на gas**\n",
    "\n",
    "**Значения nan заменим на other**"
   ]
  },
  {
   "cell_type": "code",
   "execution_count": 16,
   "id": "afad6353",
   "metadata": {},
   "outputs": [
    {
     "data": {
      "text/plain": [
       "array(['petrol', 'gasoline', nan, 'lpg', 'other', 'hybrid', 'cng',\n",
       "       'electric'], dtype=object)"
      ]
     },
     "execution_count": 16,
     "metadata": {},
     "output_type": "execute_result"
    }
   ],
   "source": [
    "data['FuelType'].unique()"
   ]
  },
  {
   "cell_type": "code",
   "execution_count": 17,
   "id": "6aed0dc9",
   "metadata": {},
   "outputs": [],
   "source": [
    "data = data.replace(to_replace='petrol', value='gasoline')"
   ]
  },
  {
   "cell_type": "code",
   "execution_count": 18,
   "id": "d18313fd",
   "metadata": {},
   "outputs": [],
   "source": [
    "data = data.replace(to_replace=['lpg','cng'], value='gas')"
   ]
  },
  {
   "cell_type": "code",
   "execution_count": 19,
   "id": "fcc1e77c",
   "metadata": {},
   "outputs": [],
   "source": [
    "data['FuelType'] = data['FuelType'].fillna('other')"
   ]
  },
  {
   "cell_type": "code",
   "execution_count": 20,
   "id": "c04f3972",
   "metadata": {},
   "outputs": [
    {
     "data": {
      "text/plain": [
       "array(['gasoline', 'other', 'gas', 'hybrid', 'electric'], dtype=object)"
      ]
     },
     "execution_count": 20,
     "metadata": {},
     "output_type": "execute_result"
    }
   ],
   "source": [
    "data['FuelType'].unique()"
   ]
  },
  {
   "cell_type": "code",
   "execution_count": 21,
   "id": "cbd35109",
   "metadata": {},
   "outputs": [
    {
     "data": {
      "text/plain": [
       "Price                   0\n",
       "VehicleType             0\n",
       "RegistrationYear        0\n",
       "Gearbox             19833\n",
       "Power                   0\n",
       "Model               19705\n",
       "Kilometer               0\n",
       "FuelType                0\n",
       "Brand                   0\n",
       "Repaired                0\n",
       "dtype: int64"
      ]
     },
     "execution_count": 21,
     "metadata": {},
     "output_type": "execute_result"
    }
   ],
   "source": [
    "data.isna().sum()"
   ]
  },
  {
   "cell_type": "markdown",
   "id": "21535ec4",
   "metadata": {},
   "source": [
    "**Проруски в Model заменим на other**"
   ]
  },
  {
   "cell_type": "code",
   "execution_count": 22,
   "id": "093e8d05",
   "metadata": {},
   "outputs": [],
   "source": [
    "data['Model'] = data['Model'].fillna('other')"
   ]
  },
  {
   "cell_type": "code",
   "execution_count": 23,
   "id": "f5d605ad",
   "metadata": {},
   "outputs": [
    {
     "data": {
      "text/plain": [
       "Price                   0\n",
       "VehicleType             0\n",
       "RegistrationYear        0\n",
       "Gearbox             19833\n",
       "Power                   0\n",
       "Model                   0\n",
       "Kilometer               0\n",
       "FuelType                0\n",
       "Brand                   0\n",
       "Repaired                0\n",
       "dtype: int64"
      ]
     },
     "execution_count": 23,
     "metadata": {},
     "output_type": "execute_result"
    }
   ],
   "source": [
    "data.isna().sum()"
   ]
  },
  {
   "cell_type": "markdown",
   "id": "6977c884",
   "metadata": {},
   "source": [
    "**Пропуски в Gearbox**"
   ]
  },
  {
   "cell_type": "markdown",
   "id": "26e88a0f",
   "metadata": {},
   "source": [
    "Кроме АКПП и МКПП существуют РКПП и ВКПП. Пропуски заполним значением other."
   ]
  },
  {
   "cell_type": "code",
   "execution_count": 24,
   "id": "6b711019",
   "metadata": {},
   "outputs": [],
   "source": [
    "data['Gearbox'] = data['Gearbox'].fillna('other')"
   ]
  },
  {
   "cell_type": "code",
   "execution_count": 25,
   "id": "26182dd7",
   "metadata": {},
   "outputs": [
    {
     "data": {
      "text/plain": [
       "Price               0\n",
       "VehicleType         0\n",
       "RegistrationYear    0\n",
       "Gearbox             0\n",
       "Power               0\n",
       "Model               0\n",
       "Kilometer           0\n",
       "FuelType            0\n",
       "Brand               0\n",
       "Repaired            0\n",
       "dtype: int64"
      ]
     },
     "execution_count": 25,
     "metadata": {},
     "output_type": "execute_result"
    }
   ],
   "source": [
    "data.isna().sum()"
   ]
  },
  {
   "cell_type": "markdown",
   "id": "79d72edf",
   "metadata": {},
   "source": [
    "### Работа с выбросам"
   ]
  },
  {
   "cell_type": "code",
   "execution_count": 26,
   "id": "c3312c89",
   "metadata": {},
   "outputs": [
    {
     "data": {
      "text/html": [
       "<div>\n",
       "<style scoped>\n",
       "    .dataframe tbody tr th:only-of-type {\n",
       "        vertical-align: middle;\n",
       "    }\n",
       "\n",
       "    .dataframe tbody tr th {\n",
       "        vertical-align: top;\n",
       "    }\n",
       "\n",
       "    .dataframe thead th {\n",
       "        text-align: right;\n",
       "    }\n",
       "</style>\n",
       "<table border=\"1\" class=\"dataframe\">\n",
       "  <thead>\n",
       "    <tr style=\"text-align: right;\">\n",
       "      <th></th>\n",
       "      <th>Price</th>\n",
       "      <th>RegistrationYear</th>\n",
       "      <th>Power</th>\n",
       "      <th>Kilometer</th>\n",
       "    </tr>\n",
       "  </thead>\n",
       "  <tbody>\n",
       "    <tr>\n",
       "      <th>count</th>\n",
       "      <td>354365.000000</td>\n",
       "      <td>354365.000000</td>\n",
       "      <td>354365.000000</td>\n",
       "      <td>354365.000000</td>\n",
       "    </tr>\n",
       "    <tr>\n",
       "      <th>mean</th>\n",
       "      <td>4416.679830</td>\n",
       "      <td>2004.234481</td>\n",
       "      <td>110.093816</td>\n",
       "      <td>128211.363989</td>\n",
       "    </tr>\n",
       "    <tr>\n",
       "      <th>std</th>\n",
       "      <td>4514.176349</td>\n",
       "      <td>90.228466</td>\n",
       "      <td>189.851330</td>\n",
       "      <td>37905.083858</td>\n",
       "    </tr>\n",
       "    <tr>\n",
       "      <th>min</th>\n",
       "      <td>0.000000</td>\n",
       "      <td>1000.000000</td>\n",
       "      <td>0.000000</td>\n",
       "      <td>5000.000000</td>\n",
       "    </tr>\n",
       "    <tr>\n",
       "      <th>25%</th>\n",
       "      <td>1050.000000</td>\n",
       "      <td>1999.000000</td>\n",
       "      <td>69.000000</td>\n",
       "      <td>125000.000000</td>\n",
       "    </tr>\n",
       "    <tr>\n",
       "      <th>50%</th>\n",
       "      <td>2700.000000</td>\n",
       "      <td>2003.000000</td>\n",
       "      <td>105.000000</td>\n",
       "      <td>150000.000000</td>\n",
       "    </tr>\n",
       "    <tr>\n",
       "      <th>75%</th>\n",
       "      <td>6400.000000</td>\n",
       "      <td>2008.000000</td>\n",
       "      <td>143.000000</td>\n",
       "      <td>150000.000000</td>\n",
       "    </tr>\n",
       "    <tr>\n",
       "      <th>max</th>\n",
       "      <td>20000.000000</td>\n",
       "      <td>9999.000000</td>\n",
       "      <td>20000.000000</td>\n",
       "      <td>150000.000000</td>\n",
       "    </tr>\n",
       "  </tbody>\n",
       "</table>\n",
       "</div>"
      ],
      "text/plain": [
       "               Price  RegistrationYear          Power      Kilometer\n",
       "count  354365.000000     354365.000000  354365.000000  354365.000000\n",
       "mean     4416.679830       2004.234481     110.093816  128211.363989\n",
       "std      4514.176349         90.228466     189.851330   37905.083858\n",
       "min         0.000000       1000.000000       0.000000    5000.000000\n",
       "25%      1050.000000       1999.000000      69.000000  125000.000000\n",
       "50%      2700.000000       2003.000000     105.000000  150000.000000\n",
       "75%      6400.000000       2008.000000     143.000000  150000.000000\n",
       "max     20000.000000       9999.000000   20000.000000  150000.000000"
      ]
     },
     "execution_count": 26,
     "metadata": {},
     "output_type": "execute_result"
    }
   ],
   "source": [
    "data.describe()"
   ]
  },
  {
   "cell_type": "markdown",
   "id": "8862d194",
   "metadata": {},
   "source": [
    "**Вывод: наблюдаются выбросы в слобцах Price,RegistrationYear,Power**"
   ]
  },
  {
   "cell_type": "markdown",
   "id": "e4d87d8f",
   "metadata": {},
   "source": [
    "**Рассмотрим столбец Price**"
   ]
  },
  {
   "cell_type": "code",
   "execution_count": 27,
   "id": "8ebeaa48",
   "metadata": {},
   "outputs": [
    {
     "data": {
      "image/png": "[encoded data removed]",
      "text/plain": [
       "<Figure size 1080x720 with 1 Axes>"
      ]
     },
     "metadata": {
      "needs_background": "light"
     },
     "output_type": "display_data"
    }
   ],
   "source": [
    "data.boxplot(column='Price',figsize=(15,10));"
   ]
  },
  {
   "cell_type": "code",
   "execution_count": 28,
   "id": "937567d7",
   "metadata": {},
   "outputs": [
    {
     "data": {
      "image/png": "[encoded data removed]",
      "text/plain": [
       "<Figure size 1080x720 with 1 Axes>"
      ]
     },
     "metadata": {
      "needs_background": "light"
     },
     "output_type": "display_data"
    }
   ],
   "source": [
    "data['Price'].hist(bins=500,figsize=(15,10))\n",
    "plt.xlabel('Стоимость')\n",
    "plt.ylabel('Кол-во')\n",
    "plt.xlim(0,500);"
   ]
  },
  {
   "cell_type": "code",
   "execution_count": 29,
   "id": "cdf14bc3",
   "metadata": {},
   "outputs": [
    {
     "data": {
      "text/plain": [
       "4.14"
      ]
     },
     "execution_count": 29,
     "metadata": {},
     "output_type": "execute_result"
    }
   ],
   "source": [
    "round((len(data[data['Price']<=120])/len(data))*100,2)"
   ]
  },
  {
   "cell_type": "markdown",
   "id": "f0cd6c06",
   "metadata": {},
   "source": [
    "Выбросим из сета данных все значения цены меньше 120 евро. С большой вероятностью эти машины годятся только на металлолом. Их общее количество из дата сета составляет 4.14%"
   ]
  },
  {
   "cell_type": "code",
   "execution_count": 30,
   "id": "bfc74b76",
   "metadata": {},
   "outputs": [],
   "source": [
    "data = data.query('Price > 120')"
   ]
  },
  {
   "cell_type": "markdown",
   "id": "2dae35a0",
   "metadata": {},
   "source": [
    "**Рассмотрим столбец RegistrationYear**"
   ]
  },
  {
   "cell_type": "code",
   "execution_count": 31,
   "id": "0db6e634",
   "metadata": {},
   "outputs": [
    {
     "data": {
      "text/plain": [
       "[1000,\n",
       " 1001,\n",
       " 1039,\n",
       " 1111,\n",
       " 1234,\n",
       " 1300,\n",
       " 1400,\n",
       " 1500,\n",
       " 1600,\n",
       " 1602,\n",
       " 1800,\n",
       " 1910,\n",
       " 1923,\n",
       " 1925,\n",
       " 1927,\n",
       " 1928,\n",
       " 1929,\n",
       " 1930,\n",
       " 1931,\n",
       " 1932,\n",
       " 1933,\n",
       " 1934,\n",
       " 1935,\n",
       " 1936,\n",
       " 1937,\n",
       " 1938,\n",
       " 1940,\n",
       " 1941,\n",
       " 1942,\n",
       " 1943,\n",
       " 1944,\n",
       " 1945,\n",
       " 1946,\n",
       " 1947,\n",
       " 1948,\n",
       " 1949,\n",
       " 1950,\n",
       " 1951,\n",
       " 1952,\n",
       " 1953,\n",
       " 1954,\n",
       " 1955,\n",
       " 1956,\n",
       " 1957,\n",
       " 1958,\n",
       " 1959,\n",
       " 1960,\n",
       " 1961,\n",
       " 1962,\n",
       " 1963,\n",
       " 1964,\n",
       " 1965,\n",
       " 1966,\n",
       " 1967,\n",
       " 1968,\n",
       " 1969,\n",
       " 1970,\n",
       " 1971,\n",
       " 1972,\n",
       " 1973,\n",
       " 1974,\n",
       " 1975,\n",
       " 1976,\n",
       " 1977,\n",
       " 1978,\n",
       " 1979,\n",
       " 1980,\n",
       " 1981,\n",
       " 1982,\n",
       " 1983,\n",
       " 1984,\n",
       " 1985,\n",
       " 1986,\n",
       " 1987,\n",
       " 1988,\n",
       " 1989,\n",
       " 1990,\n",
       " 1991,\n",
       " 1992,\n",
       " 1993,\n",
       " 1994,\n",
       " 1995,\n",
       " 1996,\n",
       " 1997,\n",
       " 1998,\n",
       " 1999,\n",
       " 2000,\n",
       " 2001,\n",
       " 2002,\n",
       " 2003,\n",
       " 2004,\n",
       " 2005,\n",
       " 2006,\n",
       " 2007,\n",
       " 2008,\n",
       " 2009,\n",
       " 2010,\n",
       " 2011,\n",
       " 2012,\n",
       " 2013,\n",
       " 2014,\n",
       " 2015,\n",
       " 2016,\n",
       " 2017,\n",
       " 2018,\n",
       " 2019,\n",
       " 2066,\n",
       " 2200,\n",
       " 2290,\n",
       " 2500,\n",
       " 2800,\n",
       " 2900,\n",
       " 3000,\n",
       " 3200,\n",
       " 3700,\n",
       " 3800,\n",
       " 4000,\n",
       " 4100,\n",
       " 4500,\n",
       " 4800,\n",
       " 5000,\n",
       " 5300,\n",
       " 5555,\n",
       " 5600,\n",
       " 5900,\n",
       " 5911,\n",
       " 6000,\n",
       " 7000,\n",
       " 7100,\n",
       " 7800,\n",
       " 8200,\n",
       " 8500,\n",
       " 8888,\n",
       " 9000,\n",
       " 9450,\n",
       " 9999]"
      ]
     },
     "execution_count": 31,
     "metadata": {},
     "output_type": "execute_result"
    }
   ],
   "source": [
    "sorted(data['RegistrationYear'].unique())"
   ]
  },
  {
   "cell_type": "markdown",
   "id": "15a6db6c",
   "metadata": {},
   "source": [
    "Оставим машины с датой регистрации в диапозоне 50 лет, с 1969 по 2019"
   ]
  },
  {
   "cell_type": "code",
   "execution_count": 32,
   "id": "7c6946d6",
   "metadata": {},
   "outputs": [],
   "source": [
    "data = data[(data['RegistrationYear'] >= 1969)|(data['RegistrationYear'] <= 2016)]"
   ]
  },
  {
   "cell_type": "markdown",
   "id": "70a71e5f",
   "metadata": {},
   "source": [
    "**Рассмотрим столбец Power**"
   ]
  },
  {
   "cell_type": "code",
   "execution_count": 33,
   "id": "256c987b",
   "metadata": {},
   "outputs": [
    {
     "data": {
      "text/plain": [
       "(0.0, 800.0)"
      ]
     },
     "execution_count": 33,
     "metadata": {},
     "output_type": "execute_result"
    },
    {
     "data": {
      "image/png": "[encoded data removed]",
      "text/plain": [
       "<Figure size 1080x720 with 1 Axes>"
      ]
     },
     "metadata": {
      "needs_background": "light"
     },
     "output_type": "display_data"
    }
   ],
   "source": [
    "data.boxplot(column='Power',figsize=(15,10));\n",
    "plt.ylim(0,800)"
   ]
  },
  {
   "cell_type": "code",
   "execution_count": 34,
   "id": "fdfd18e5",
   "metadata": {},
   "outputs": [
    {
     "data": {
      "text/plain": [
       "(339708, 10)"
      ]
     },
     "execution_count": 34,
     "metadata": {},
     "output_type": "execute_result"
    }
   ],
   "source": [
    "data.shape"
   ]
  },
  {
   "cell_type": "markdown",
   "id": "93f47498",
   "metadata": {},
   "source": [
    "Значения в столбце Power, что ниже 60 л.с., заменим на медианные значения мощности уникальных моделей."
   ]
  },
  {
   "cell_type": "code",
   "execution_count": 35,
   "id": "2dbe9c79",
   "metadata": {},
   "outputs": [],
   "source": [
    "for row in data['Model'].unique():\n",
    "    data.loc[(data['Power'] < 60), 'Power'] = data.loc[(data['Model']== row), 'Power'].median()"
   ]
  },
  {
   "cell_type": "markdown",
   "id": "8163cc0e",
   "metadata": {},
   "source": [
    "Значения в столбце Power, что выше 800 л.с., заменим на медианные значения мощности уникальных моделей."
   ]
  },
  {
   "cell_type": "code",
   "execution_count": 36,
   "id": "24f66dc5",
   "metadata": {},
   "outputs": [],
   "source": [
    "for row in data['Model'].unique():\n",
    "    data.loc[(data['Power'] > 800), 'Power'] = data.loc[(data['Model']== row), 'Power'].median()"
   ]
  },
  {
   "cell_type": "code",
   "execution_count": 37,
   "id": "5477a8c3",
   "metadata": {},
   "outputs": [
    {
     "data": {
      "text/plain": [
       "count    339708.000000\n",
       "mean        121.626933\n",
       "std          48.727474\n",
       "min          60.000000\n",
       "25%          95.000000\n",
       "50%         105.000000\n",
       "75%         143.000000\n",
       "max         800.000000\n",
       "Name: Power, dtype: float64"
      ]
     },
     "execution_count": 37,
     "metadata": {},
     "output_type": "execute_result"
    }
   ],
   "source": [
    "data['Power'].describe()"
   ]
  },
  {
   "cell_type": "code",
   "execution_count": 38,
   "id": "3bacf13c",
   "metadata": {},
   "outputs": [
    {
     "data": {
      "text/plain": [
       "(0.0, 810.0)"
      ]
     },
     "execution_count": 38,
     "metadata": {},
     "output_type": "execute_result"
    },
    {
     "data": {
      "image/png": "[encoded data removed]",
      "text/plain": [
       "<Figure size 1080x720 with 1 Axes>"
      ]
     },
     "metadata": {
      "needs_background": "light"
     },
     "output_type": "display_data"
    }
   ],
   "source": [
    "data.boxplot(column='Power',figsize=(15,10));\n",
    "plt.ylim(0,810)"
   ]
  },
  {
   "cell_type": "markdown",
   "id": "7cbf9831",
   "metadata": {},
   "source": [
    "## Обучение моделей"
   ]
  },
  {
   "cell_type": "markdown",
   "id": "c5d18fb5",
   "metadata": {},
   "source": [
    "### Подготовка выборок под обучение"
   ]
  },
  {
   "cell_type": "code",
   "execution_count": 39,
   "id": "e61a9414",
   "metadata": {},
   "outputs": [
    {
     "data": {
      "text/html": [
       "<div>\n",
       "<style scoped>\n",
       "    .dataframe tbody tr th:only-of-type {\n",
       "        vertical-align: middle;\n",
       "    }\n",
       "\n",
       "    .dataframe tbody tr th {\n",
       "        vertical-align: top;\n",
       "    }\n",
       "\n",
       "    .dataframe thead th {\n",
       "        text-align: right;\n",
       "    }\n",
       "</style>\n",
       "<table border=\"1\" class=\"dataframe\">\n",
       "  <thead>\n",
       "    <tr style=\"text-align: right;\">\n",
       "      <th></th>\n",
       "      <th>Price</th>\n",
       "      <th>VehicleType</th>\n",
       "      <th>RegistrationYear</th>\n",
       "      <th>Gearbox</th>\n",
       "      <th>Power</th>\n",
       "      <th>Model</th>\n",
       "      <th>Kilometer</th>\n",
       "      <th>FuelType</th>\n",
       "      <th>Brand</th>\n",
       "      <th>Repaired</th>\n",
       "    </tr>\n",
       "  </thead>\n",
       "  <tbody>\n",
       "    <tr>\n",
       "      <th>0</th>\n",
       "      <td>480</td>\n",
       "      <td>other</td>\n",
       "      <td>1993</td>\n",
       "      <td>manual</td>\n",
       "      <td>100.0</td>\n",
       "      <td>golf</td>\n",
       "      <td>150000</td>\n",
       "      <td>gasoline</td>\n",
       "      <td>volkswagen</td>\n",
       "      <td>no</td>\n",
       "    </tr>\n",
       "    <tr>\n",
       "      <th>1</th>\n",
       "      <td>18300</td>\n",
       "      <td>coupe</td>\n",
       "      <td>2011</td>\n",
       "      <td>manual</td>\n",
       "      <td>190.0</td>\n",
       "      <td>other</td>\n",
       "      <td>125000</td>\n",
       "      <td>gasoline</td>\n",
       "      <td>audi</td>\n",
       "      <td>yes</td>\n",
       "    </tr>\n",
       "    <tr>\n",
       "      <th>2</th>\n",
       "      <td>9800</td>\n",
       "      <td>suv</td>\n",
       "      <td>2004</td>\n",
       "      <td>auto</td>\n",
       "      <td>163.0</td>\n",
       "      <td>grand</td>\n",
       "      <td>125000</td>\n",
       "      <td>gasoline</td>\n",
       "      <td>jeep</td>\n",
       "      <td>no</td>\n",
       "    </tr>\n",
       "    <tr>\n",
       "      <th>3</th>\n",
       "      <td>1500</td>\n",
       "      <td>small</td>\n",
       "      <td>2001</td>\n",
       "      <td>manual</td>\n",
       "      <td>75.0</td>\n",
       "      <td>golf</td>\n",
       "      <td>150000</td>\n",
       "      <td>gasoline</td>\n",
       "      <td>volkswagen</td>\n",
       "      <td>no</td>\n",
       "    </tr>\n",
       "    <tr>\n",
       "      <th>4</th>\n",
       "      <td>3600</td>\n",
       "      <td>small</td>\n",
       "      <td>2008</td>\n",
       "      <td>manual</td>\n",
       "      <td>69.0</td>\n",
       "      <td>fabia</td>\n",
       "      <td>90000</td>\n",
       "      <td>gasoline</td>\n",
       "      <td>skoda</td>\n",
       "      <td>no</td>\n",
       "    </tr>\n",
       "  </tbody>\n",
       "</table>\n",
       "</div>"
      ],
      "text/plain": [
       "   Price VehicleType  RegistrationYear Gearbox  Power  Model  Kilometer  \\\n",
       "0    480       other              1993  manual  100.0   golf     150000   \n",
       "1  18300       coupe              2011  manual  190.0  other     125000   \n",
       "2   9800         suv              2004    auto  163.0  grand     125000   \n",
       "3   1500       small              2001  manual   75.0   golf     150000   \n",
       "4   3600       small              2008  manual   69.0  fabia      90000   \n",
       "\n",
       "   FuelType       Brand Repaired  \n",
       "0  gasoline  volkswagen       no  \n",
       "1  gasoline        audi      yes  \n",
       "2  gasoline        jeep       no  \n",
       "3  gasoline  volkswagen       no  \n",
       "4  gasoline       skoda       no  "
      ]
     },
     "execution_count": 39,
     "metadata": {},
     "output_type": "execute_result"
    }
   ],
   "source": [
    "data.head()"
   ]
  },
  {
   "cell_type": "code",
   "execution_count": 40,
   "id": "90f0e6ff",
   "metadata": {},
   "outputs": [
    {
     "data": {
      "text/plain": [
       "Index(['Price', 'VehicleType', 'RegistrationYear', 'Gearbox', 'Power', 'Model',\n",
       "       'Kilometer', 'FuelType', 'Brand', 'Repaired'],\n",
       "      dtype='object')"
      ]
     },
     "execution_count": 40,
     "metadata": {},
     "output_type": "execute_result"
    }
   ],
   "source": [
    "data.columns"
   ]
  },
  {
   "cell_type": "markdown",
   "id": "80350753",
   "metadata": {},
   "source": [
    "**Разбивка данных на тренировочную и валидационную**"
   ]
  },
  {
   "cell_type": "code",
   "execution_count": 41,
   "id": "553a0f67",
   "metadata": {},
   "outputs": [],
   "source": [
    "data_train, data_sep = train_test_split(data,train_size=0.6, test_size=0.4, random_state=12345)"
   ]
  },
  {
   "cell_type": "code",
   "execution_count": 42,
   "id": "0e2f15f4",
   "metadata": {},
   "outputs": [],
   "source": [
    "data_valid, data_test = train_test_split(data_sep, test_size=0.5, random_state=12345)"
   ]
  },
  {
   "cell_type": "markdown",
   "id": "96befd18",
   "metadata": {},
   "source": [
    "**Проверка соотношения разбивки данных**"
   ]
  },
  {
   "cell_type": "code",
   "execution_count": 43,
   "id": "0ce98774",
   "metadata": {},
   "outputs": [
    {
     "data": {
      "text/plain": [
       "60.0"
      ]
     },
     "execution_count": 43,
     "metadata": {},
     "output_type": "execute_result"
    }
   ],
   "source": [
    "round((len(data_train)/len(data)*100),2)"
   ]
  },
  {
   "cell_type": "code",
   "execution_count": 44,
   "id": "675b792d",
   "metadata": {},
   "outputs": [
    {
     "data": {
      "text/plain": [
       "20.0"
      ]
     },
     "execution_count": 44,
     "metadata": {},
     "output_type": "execute_result"
    }
   ],
   "source": [
    "round((len(data_valid)/len(data)*100),2)"
   ]
  },
  {
   "cell_type": "code",
   "execution_count": 45,
   "id": "2e449a9e",
   "metadata": {},
   "outputs": [
    {
     "data": {
      "text/plain": [
       "20.0"
      ]
     },
     "execution_count": 45,
     "metadata": {},
     "output_type": "execute_result"
    }
   ],
   "source": [
    "round((len(data_test)/len(data)*100),2)"
   ]
  },
  {
   "cell_type": "markdown",
   "id": "65bc5939",
   "metadata": {},
   "source": [
    "**Выделение целевого признака**"
   ]
  },
  {
   "cell_type": "markdown",
   "id": "785a702a",
   "metadata": {},
   "source": [
    "Тренировочные данные"
   ]
  },
  {
   "cell_type": "code",
   "execution_count": 46,
   "id": "99a76bc4",
   "metadata": {},
   "outputs": [],
   "source": [
    "features_train = data_train.drop('Price',axis=1)\n",
    "target_train = data_train['Price']"
   ]
  },
  {
   "cell_type": "markdown",
   "id": "69fcda58",
   "metadata": {},
   "source": [
    "Валидационные данные"
   ]
  },
  {
   "cell_type": "code",
   "execution_count": 47,
   "id": "38fe43ce",
   "metadata": {},
   "outputs": [],
   "source": [
    "features_valid = data_valid.drop('Price',axis=1)\n",
    "target_valid = data_valid['Price']"
   ]
  },
  {
   "cell_type": "markdown",
   "id": "271fb4bb",
   "metadata": {},
   "source": [
    "Тренировочные данные"
   ]
  },
  {
   "cell_type": "code",
   "execution_count": 48,
   "id": "0de367df",
   "metadata": {},
   "outputs": [],
   "source": [
    "features_test = data_test.drop('Price',axis=1)\n",
    "target_test = data_test['Price']"
   ]
  },
  {
   "cell_type": "markdown",
   "id": "af753f9f",
   "metadata": {},
   "source": [
    "**Проведем кодирование категориальных признаков**"
   ]
  },
  {
   "cell_type": "code",
   "execution_count": 51,
   "id": "c6e7c1e9",
   "metadata": {},
   "outputs": [
    {
     "data": {
      "text/plain": [
       "OrdinalEncoder(handle_unknown='use_encoded_value', unknown_value=9999)"
      ]
     },
     "execution_count": 51,
     "metadata": {},
     "output_type": "execute_result"
    }
   ],
   "source": [
    "encoder = OrdinalEncoder(handle_unknown='use_encoded_value', unknown_value=9999)\n",
    "cat_columns = ['VehicleType','Gearbox','Model','FuelType','Brand','Repaired']\n",
    "encoder.fit(features_train[cat_columns])"
   ]
  },
  {
   "cell_type": "code",
   "execution_count": 52,
   "id": "34ca911c",
   "metadata": {},
   "outputs": [],
   "source": [
    "features_train[cat_columns] = encoder.transform(features_train[cat_columns])\n",
    "features_valid[cat_columns] = encoder.transform(features_valid[cat_columns])\n",
    "features_test[cat_columns] = encoder.transform(features_test[cat_columns])"
   ]
  },
  {
   "cell_type": "markdown",
   "id": "0a6d6113",
   "metadata": {},
   "source": [
    "**Проведем масштабиование количественных признаков**"
   ]
  },
  {
   "cell_type": "code",
   "execution_count": 53,
   "id": "1b3c0748",
   "metadata": {},
   "outputs": [],
   "source": [
    "to_scale = ['RegistrationYear','Power','Kilometer']"
   ]
  },
  {
   "cell_type": "code",
   "execution_count": 54,
   "id": "ec4c1385",
   "metadata": {},
   "outputs": [
    {
     "data": {
      "text/plain": [
       "StandardScaler()"
      ]
     },
     "execution_count": 54,
     "metadata": {},
     "output_type": "execute_result"
    }
   ],
   "source": [
    "scaler = StandardScaler()\n",
    "scaler.fit(features_train[to_scale])"
   ]
  },
  {
   "cell_type": "code",
   "execution_count": 55,
   "id": "e0e122d2",
   "metadata": {},
   "outputs": [],
   "source": [
    "features_train[to_scale] = scaler.transform(features_train[to_scale])\n",
    "features_valid[to_scale] = scaler.transform(features_valid[to_scale])\n",
    "features_test[to_scale] = scaler.transform(features_test[to_scale])"
   ]
  },
  {
   "cell_type": "code",
   "execution_count": 56,
   "id": "0af9bc10",
   "metadata": {},
   "outputs": [
    {
     "data": {
      "text/html": [
       "<div>\n",
       "<style scoped>\n",
       "    .dataframe tbody tr th:only-of-type {\n",
       "        vertical-align: middle;\n",
       "    }\n",
       "\n",
       "    .dataframe tbody tr th {\n",
       "        vertical-align: top;\n",
       "    }\n",
       "\n",
       "    .dataframe thead th {\n",
       "        text-align: right;\n",
       "    }\n",
       "</style>\n",
       "<table border=\"1\" class=\"dataframe\">\n",
       "  <thead>\n",
       "    <tr style=\"text-align: right;\">\n",
       "      <th></th>\n",
       "      <th>VehicleType</th>\n",
       "      <th>RegistrationYear</th>\n",
       "      <th>Gearbox</th>\n",
       "      <th>Power</th>\n",
       "      <th>Model</th>\n",
       "      <th>Kilometer</th>\n",
       "      <th>FuelType</th>\n",
       "      <th>Brand</th>\n",
       "      <th>Repaired</th>\n",
       "    </tr>\n",
       "  </thead>\n",
       "  <tbody>\n",
       "    <tr>\n",
       "      <th>214859</th>\n",
       "      <td>4.0</td>\n",
       "      <td>-0.055852</td>\n",
       "      <td>1.0</td>\n",
       "      <td>2.940996</td>\n",
       "      <td>28.0</td>\n",
       "      <td>0.576919</td>\n",
       "      <td>2.0</td>\n",
       "      <td>1.0</td>\n",
       "      <td>0.0</td>\n",
       "    </tr>\n",
       "    <tr>\n",
       "      <th>10245</th>\n",
       "      <td>3.0</td>\n",
       "      <td>0.181119</td>\n",
       "      <td>1.0</td>\n",
       "      <td>0.992185</td>\n",
       "      <td>95.0</td>\n",
       "      <td>0.576919</td>\n",
       "      <td>2.0</td>\n",
       "      <td>20.0</td>\n",
       "      <td>0.0</td>\n",
       "    </tr>\n",
       "    <tr>\n",
       "      <th>137095</th>\n",
       "      <td>5.0</td>\n",
       "      <td>-0.041912</td>\n",
       "      <td>1.0</td>\n",
       "      <td>-0.956626</td>\n",
       "      <td>83.0</td>\n",
       "      <td>0.576919</td>\n",
       "      <td>2.0</td>\n",
       "      <td>24.0</td>\n",
       "      <td>0.0</td>\n",
       "    </tr>\n",
       "    <tr>\n",
       "      <th>329044</th>\n",
       "      <td>4.0</td>\n",
       "      <td>0.083543</td>\n",
       "      <td>1.0</td>\n",
       "      <td>0.992185</td>\n",
       "      <td>116.0</td>\n",
       "      <td>0.576919</td>\n",
       "      <td>2.0</td>\n",
       "      <td>38.0</td>\n",
       "      <td>0.0</td>\n",
       "    </tr>\n",
       "    <tr>\n",
       "      <th>223073</th>\n",
       "      <td>4.0</td>\n",
       "      <td>-0.014033</td>\n",
       "      <td>1.0</td>\n",
       "      <td>0.581909</td>\n",
       "      <td>28.0</td>\n",
       "      <td>0.576919</td>\n",
       "      <td>2.0</td>\n",
       "      <td>1.0</td>\n",
       "      <td>0.0</td>\n",
       "    </tr>\n",
       "  </tbody>\n",
       "</table>\n",
       "</div>"
      ],
      "text/plain": [
       "        VehicleType  RegistrationYear  Gearbox     Power  Model  Kilometer  \\\n",
       "214859          4.0         -0.055852      1.0  2.940996   28.0   0.576919   \n",
       "10245           3.0          0.181119      1.0  0.992185   95.0   0.576919   \n",
       "137095          5.0         -0.041912      1.0 -0.956626   83.0   0.576919   \n",
       "329044          4.0          0.083543      1.0  0.992185  116.0   0.576919   \n",
       "223073          4.0         -0.014033      1.0  0.581909   28.0   0.576919   \n",
       "\n",
       "        FuelType  Brand  Repaired  \n",
       "214859       2.0    1.0       0.0  \n",
       "10245        2.0   20.0       0.0  \n",
       "137095       2.0   24.0       0.0  \n",
       "329044       2.0   38.0       0.0  \n",
       "223073       2.0    1.0       0.0  "
      ]
     },
     "execution_count": 56,
     "metadata": {},
     "output_type": "execute_result"
    }
   ],
   "source": [
    "features_train.head()"
   ]
  },
  {
   "cell_type": "code",
   "execution_count": 57,
   "id": "f83aea66",
   "metadata": {},
   "outputs": [
    {
     "data": {
      "text/html": [
       "<div>\n",
       "<style scoped>\n",
       "    .dataframe tbody tr th:only-of-type {\n",
       "        vertical-align: middle;\n",
       "    }\n",
       "\n",
       "    .dataframe tbody tr th {\n",
       "        vertical-align: top;\n",
       "    }\n",
       "\n",
       "    .dataframe thead th {\n",
       "        text-align: right;\n",
       "    }\n",
       "</style>\n",
       "<table border=\"1\" class=\"dataframe\">\n",
       "  <thead>\n",
       "    <tr style=\"text-align: right;\">\n",
       "      <th></th>\n",
       "      <th>VehicleType</th>\n",
       "      <th>RegistrationYear</th>\n",
       "      <th>Gearbox</th>\n",
       "      <th>Power</th>\n",
       "      <th>Model</th>\n",
       "      <th>Kilometer</th>\n",
       "      <th>FuelType</th>\n",
       "      <th>Brand</th>\n",
       "      <th>Repaired</th>\n",
       "    </tr>\n",
       "  </thead>\n",
       "  <tbody>\n",
       "    <tr>\n",
       "      <th>103453</th>\n",
       "      <td>1.0</td>\n",
       "      <td>0.013845</td>\n",
       "      <td>0.0</td>\n",
       "      <td>2.243527</td>\n",
       "      <td>11.0</td>\n",
       "      <td>0.576919</td>\n",
       "      <td>2.0</td>\n",
       "      <td>2.0</td>\n",
       "      <td>0.0</td>\n",
       "    </tr>\n",
       "    <tr>\n",
       "      <th>75599</th>\n",
       "      <td>7.0</td>\n",
       "      <td>0.111422</td>\n",
       "      <td>0.0</td>\n",
       "      <td>0.376771</td>\n",
       "      <td>116.0</td>\n",
       "      <td>-1.577090</td>\n",
       "      <td>2.0</td>\n",
       "      <td>38.0</td>\n",
       "      <td>0.0</td>\n",
       "    </tr>\n",
       "    <tr>\n",
       "      <th>7926</th>\n",
       "      <td>4.0</td>\n",
       "      <td>0.083543</td>\n",
       "      <td>1.0</td>\n",
       "      <td>0.787047</td>\n",
       "      <td>140.0</td>\n",
       "      <td>-1.577090</td>\n",
       "      <td>2.0</td>\n",
       "      <td>30.0</td>\n",
       "      <td>0.0</td>\n",
       "    </tr>\n",
       "    <tr>\n",
       "      <th>259766</th>\n",
       "      <td>5.0</td>\n",
       "      <td>-0.069791</td>\n",
       "      <td>1.0</td>\n",
       "      <td>-0.443781</td>\n",
       "      <td>199.0</td>\n",
       "      <td>-1.038588</td>\n",
       "      <td>2.0</td>\n",
       "      <td>9.0</td>\n",
       "      <td>1.0</td>\n",
       "    </tr>\n",
       "    <tr>\n",
       "      <th>30543</th>\n",
       "      <td>3.0</td>\n",
       "      <td>0.181119</td>\n",
       "      <td>1.0</td>\n",
       "      <td>-0.730974</td>\n",
       "      <td>116.0</td>\n",
       "      <td>-2.384844</td>\n",
       "      <td>4.0</td>\n",
       "      <td>38.0</td>\n",
       "      <td>0.0</td>\n",
       "    </tr>\n",
       "  </tbody>\n",
       "</table>\n",
       "</div>"
      ],
      "text/plain": [
       "        VehicleType  RegistrationYear  Gearbox     Power  Model  Kilometer  \\\n",
       "103453          1.0          0.013845      0.0  2.243527   11.0   0.576919   \n",
       "75599           7.0          0.111422      0.0  0.376771  116.0  -1.577090   \n",
       "7926            4.0          0.083543      1.0  0.787047  140.0  -1.577090   \n",
       "259766          5.0         -0.069791      1.0 -0.443781  199.0  -1.038588   \n",
       "30543           3.0          0.181119      1.0 -0.730974  116.0  -2.384844   \n",
       "\n",
       "        FuelType  Brand  Repaired  \n",
       "103453       2.0    2.0       0.0  \n",
       "75599        2.0   38.0       0.0  \n",
       "7926         2.0   30.0       0.0  \n",
       "259766       2.0    9.0       1.0  \n",
       "30543        4.0   38.0       0.0  "
      ]
     },
     "execution_count": 57,
     "metadata": {},
     "output_type": "execute_result"
    }
   ],
   "source": [
    "features_valid.head()"
   ]
  },
  {
   "cell_type": "code",
   "execution_count": 58,
   "id": "2a67b051",
   "metadata": {},
   "outputs": [
    {
     "data": {
      "text/html": [
       "<div>\n",
       "<style scoped>\n",
       "    .dataframe tbody tr th:only-of-type {\n",
       "        vertical-align: middle;\n",
       "    }\n",
       "\n",
       "    .dataframe tbody tr th {\n",
       "        vertical-align: top;\n",
       "    }\n",
       "\n",
       "    .dataframe thead th {\n",
       "        text-align: right;\n",
       "    }\n",
       "</style>\n",
       "<table border=\"1\" class=\"dataframe\">\n",
       "  <thead>\n",
       "    <tr style=\"text-align: right;\">\n",
       "      <th></th>\n",
       "      <th>VehicleType</th>\n",
       "      <th>RegistrationYear</th>\n",
       "      <th>Gearbox</th>\n",
       "      <th>Power</th>\n",
       "      <th>Model</th>\n",
       "      <th>Kilometer</th>\n",
       "      <th>FuelType</th>\n",
       "      <th>Brand</th>\n",
       "      <th>Repaired</th>\n",
       "    </tr>\n",
       "  </thead>\n",
       "  <tbody>\n",
       "    <tr>\n",
       "      <th>325761</th>\n",
       "      <td>3.0</td>\n",
       "      <td>-0.055852</td>\n",
       "      <td>2.0</td>\n",
       "      <td>-0.443781</td>\n",
       "      <td>232.0</td>\n",
       "      <td>0.576919</td>\n",
       "      <td>4.0</td>\n",
       "      <td>24.0</td>\n",
       "      <td>0.0</td>\n",
       "    </tr>\n",
       "    <tr>\n",
       "      <th>29773</th>\n",
       "      <td>5.0</td>\n",
       "      <td>0.027785</td>\n",
       "      <td>1.0</td>\n",
       "      <td>-0.341212</td>\n",
       "      <td>28.0</td>\n",
       "      <td>-0.769337</td>\n",
       "      <td>2.0</td>\n",
       "      <td>1.0</td>\n",
       "      <td>0.0</td>\n",
       "    </tr>\n",
       "    <tr>\n",
       "      <th>270330</th>\n",
       "      <td>0.0</td>\n",
       "      <td>-0.014033</td>\n",
       "      <td>1.0</td>\n",
       "      <td>-0.443781</td>\n",
       "      <td>202.0</td>\n",
       "      <td>0.576919</td>\n",
       "      <td>4.0</td>\n",
       "      <td>38.0</td>\n",
       "      <td>0.0</td>\n",
       "    </tr>\n",
       "    <tr>\n",
       "      <th>97814</th>\n",
       "      <td>5.0</td>\n",
       "      <td>-0.041912</td>\n",
       "      <td>1.0</td>\n",
       "      <td>-0.956626</td>\n",
       "      <td>173.0</td>\n",
       "      <td>0.576919</td>\n",
       "      <td>2.0</td>\n",
       "      <td>38.0</td>\n",
       "      <td>0.0</td>\n",
       "    </tr>\n",
       "    <tr>\n",
       "      <th>232041</th>\n",
       "      <td>6.0</td>\n",
       "      <td>0.027785</td>\n",
       "      <td>0.0</td>\n",
       "      <td>1.320406</td>\n",
       "      <td>242.0</td>\n",
       "      <td>0.576919</td>\n",
       "      <td>2.0</td>\n",
       "      <td>39.0</td>\n",
       "      <td>0.0</td>\n",
       "    </tr>\n",
       "  </tbody>\n",
       "</table>\n",
       "</div>"
      ],
      "text/plain": [
       "        VehicleType  RegistrationYear  Gearbox     Power  Model  Kilometer  \\\n",
       "325761          3.0         -0.055852      2.0 -0.443781  232.0   0.576919   \n",
       "29773           5.0          0.027785      1.0 -0.341212   28.0  -0.769337   \n",
       "270330          0.0         -0.014033      1.0 -0.443781  202.0   0.576919   \n",
       "97814           5.0         -0.041912      1.0 -0.956626  173.0   0.576919   \n",
       "232041          6.0          0.027785      0.0  1.320406  242.0   0.576919   \n",
       "\n",
       "        FuelType  Brand  Repaired  \n",
       "325761       4.0   24.0       0.0  \n",
       "29773        2.0    1.0       0.0  \n",
       "270330       4.0   38.0       0.0  \n",
       "97814        2.0   38.0       0.0  \n",
       "232041       2.0   39.0       0.0  "
      ]
     },
     "execution_count": 58,
     "metadata": {},
     "output_type": "execute_result"
    }
   ],
   "source": [
    "features_test.head()"
   ]
  },
  {
   "cell_type": "markdown",
   "id": "a2ddbfe1",
   "metadata": {},
   "source": [
    "### Подбор гиперпараметров"
   ]
  },
  {
   "cell_type": "code",
   "execution_count": 59,
   "id": "9c1fb01f",
   "metadata": {},
   "outputs": [],
   "source": [
    "RANDOM=12345"
   ]
  },
  {
   "cell_type": "markdown",
   "id": "b8c20835",
   "metadata": {},
   "source": [
    "**CatBoost**"
   ]
  },
  {
   "cell_type": "code",
   "execution_count": 60,
   "id": "c0eba3aa",
   "metadata": {},
   "outputs": [],
   "source": [
    "# cat = CatBoostRegressor(loss_function='RMSE',random_seed=RANDOM,silent=True)"
   ]
  },
  {
   "cell_type": "code",
   "execution_count": 61,
   "id": "a0cbe073",
   "metadata": {},
   "outputs": [],
   "source": [
    "params = {\n",
    "    'learning_rate': [0.1, 0.2, 0.3, 0.4, 0.5, 0.6, 0.7, 0.8, 0.9, 1.0],\n",
    "    'iterations': range(10, 100, 10),\n",
    "    'depth': range(4,10,2)\n",
    "}"
   ]
  },
  {
   "cell_type": "code",
   "execution_count": 62,
   "id": "1085379b",
   "metadata": {},
   "outputs": [],
   "source": [
    "# grid_cat = GridSearchCV(cat,params,cv=3,scoring='neg_mean_squared_error')\n",
    "# grid_cat.fit(features_train, target_train);\n",
    "# grid_cat.best_params_"
   ]
  },
  {
   "cell_type": "code",
   "execution_count": 63,
   "id": "f9972d44",
   "metadata": {},
   "outputs": [
    {
     "name": "stdout",
     "output_type": "stream",
     "text": [
      "RMSE:  1727\n"
     ]
    }
   ],
   "source": [
    "cat = CatBoostRegressor(loss_function='RMSE',random_seed=RANDOM,silent=True,depth=8,iterations=90,learning_rate=0.5)\n",
    "cat.fit(features_train, target_train)\n",
    "pred = cat.predict(features_valid)\n",
    "print('RMSE: ',round(mean_squared_error(target_valid, pred) ** .5))"
   ]
  },
  {
   "cell_type": "markdown",
   "id": "bfcf6a8d",
   "metadata": {},
   "source": [
    "**Вывод:** получили для CatBoost лучшие параметры и рассмотрели предварительную оценку RMSE"
   ]
  },
  {
   "cell_type": "markdown",
   "id": "56d77670",
   "metadata": {},
   "source": [
    "**LightGBM**"
   ]
  },
  {
   "cell_type": "code",
   "execution_count": 64,
   "id": "d6db9e04",
   "metadata": {},
   "outputs": [],
   "source": [
    "# gbm = LGBMRegressor(seed=RANDOM)"
   ]
  },
  {
   "cell_type": "code",
   "execution_count": 65,
   "id": "85b863d8",
   "metadata": {},
   "outputs": [],
   "source": [
    "params = {\n",
    "    'learning_rate': [0.1, 0.2, 0.3, 0.4, 0.5, 0.6, 0.7, 0.8, 0.9, 1.0],\n",
    "    'max_depth': range(4,10,2),\n",
    "    'n_estimators': range(1,100,20)\n",
    "}"
   ]
  },
  {
   "cell_type": "code",
   "execution_count": 66,
   "id": "29e69432",
   "metadata": {},
   "outputs": [],
   "source": [
    "# grid_gbm = GridSearchCV(gbm, params, cv=3, scoring='neg_mean_squared_error')\n",
    "# grid_gbm.fit(features_train, target_train);\n",
    "# grid_gbm.best_params_"
   ]
  },
  {
   "cell_type": "code",
   "execution_count": 67,
   "id": "2b0f42e4",
   "metadata": {},
   "outputs": [
    {
     "name": "stdout",
     "output_type": "stream",
     "text": [
      "RMSE:  1727\n"
     ]
    }
   ],
   "source": [
    "gbm = LGBMRegressor(learning_rate=0.4,max_depth=8,n_estimators=81,seed=RANDOM)\n",
    "gbm.fit(features_train, target_train)\n",
    "pred = gbm.predict(features_valid)\n",
    "print('RMSE: ',round(mean_squared_error(target_valid, pred) ** .5))"
   ]
  },
  {
   "cell_type": "markdown",
   "id": "8f692c98",
   "metadata": {},
   "source": [
    "**Вывод:** получили для LGBMRegressor лучшие параметры и рассмотрели предварительную оценку RMSE"
   ]
  },
  {
   "cell_type": "markdown",
   "id": "69ea0e73",
   "metadata": {},
   "source": [
    "**RandomForestRegressor**"
   ]
  },
  {
   "cell_type": "code",
   "execution_count": 68,
   "id": "2d163920",
   "metadata": {},
   "outputs": [],
   "source": [
    "# model_rfr = RandomForestRegressor(random_state=RANDOM)"
   ]
  },
  {
   "cell_type": "code",
   "execution_count": 69,
   "id": "a613d1ce",
   "metadata": {},
   "outputs": [],
   "source": [
    "params = {\n",
    "    'max_depth':range(1,23,3),\n",
    "    'n_estimators': range(1,100,10),\n",
    "}"
   ]
  },
  {
   "cell_type": "code",
   "execution_count": 70,
   "id": "f859572b",
   "metadata": {},
   "outputs": [],
   "source": [
    "# grid_rfr = GridSearchCV(model_rfr,params,cv=3,scoring='neg_mean_squared_error')\n",
    "# grid_rfr.fit(features_train, target_train)\n",
    "# grid_rfr.best_params_"
   ]
  },
  {
   "cell_type": "code",
   "execution_count": 71,
   "id": "1dbdf0a0",
   "metadata": {},
   "outputs": [
    {
     "name": "stdout",
     "output_type": "stream",
     "text": [
      "RMSE:  1681\n"
     ]
    }
   ],
   "source": [
    "model_rfr = RandomForestRegressor(max_depth=19,n_estimators=91,random_state=RANDOM)\n",
    "model_rfr.fit(features_train, target_train)\n",
    "pred = model_rfr.predict(features_valid)\n",
    "print('RMSE: ',round(mean_squared_error(target_valid, pred) ** .5))"
   ]
  },
  {
   "cell_type": "markdown",
   "id": "4a864428",
   "metadata": {},
   "source": [
    "**Вывод:** получили для RandomForestRegressor лучшие параметры и рассмотрели предварительную оценку RMSE"
   ]
  },
  {
   "cell_type": "markdown",
   "id": "4b058a09",
   "metadata": {},
   "source": [
    "## Анализ моделей"
   ]
  },
  {
   "cell_type": "markdown",
   "id": "1726b9c5",
   "metadata": {},
   "source": [
    "### Рассмотрим показатели RMSE каждой модели на тестовой выборке и время их работы"
   ]
  },
  {
   "cell_type": "code",
   "execution_count": 72,
   "id": "95cc9aac",
   "metadata": {},
   "outputs": [],
   "source": [
    "def analysis(model):\n",
    "    sf = time.time()\n",
    "    model = model\n",
    "    model.fit(features_train, target_train)\n",
    "    ef = time.time()\n",
    "    fit_time = round(ef-sf,2)\n",
    "    \n",
    "    sp = time.time()\n",
    "    prediction = model.predict(features_valid)\n",
    "    ep = time.time()\n",
    "    pred_time = round(ep-sp,2)\n",
    "    \n",
    "    rmse = round(mean_squared_error(target_valid, prediction) ** .5)\n",
    "    \n",
    "    return fit_time,pred_time,rmse"
   ]
  },
  {
   "cell_type": "code",
   "execution_count": 73,
   "id": "e7a5d464",
   "metadata": {},
   "outputs": [],
   "source": [
    "models = [analysis(cat),analysis(gbm),analysis(model_rfr)]"
   ]
  },
  {
   "cell_type": "code",
   "execution_count": 74,
   "id": "7e5ecbfc",
   "metadata": {},
   "outputs": [
    {
     "data": {
      "text/html": [
       "<div>\n",
       "<style scoped>\n",
       "    .dataframe tbody tr th:only-of-type {\n",
       "        vertical-align: middle;\n",
       "    }\n",
       "\n",
       "    .dataframe tbody tr th {\n",
       "        vertical-align: top;\n",
       "    }\n",
       "\n",
       "    .dataframe thead th {\n",
       "        text-align: right;\n",
       "    }\n",
       "</style>\n",
       "<table border=\"1\" class=\"dataframe\">\n",
       "  <thead>\n",
       "    <tr style=\"text-align: right;\">\n",
       "      <th></th>\n",
       "      <th>fit_time_sec</th>\n",
       "      <th>pred_time_sec</th>\n",
       "      <th>RMSE</th>\n",
       "    </tr>\n",
       "  </thead>\n",
       "  <tbody>\n",
       "    <tr>\n",
       "      <th>CatBoost</th>\n",
       "      <td>3.82</td>\n",
       "      <td>0.03</td>\n",
       "      <td>1727</td>\n",
       "    </tr>\n",
       "    <tr>\n",
       "      <th>LightGBM</th>\n",
       "      <td>244.89</td>\n",
       "      <td>0.40</td>\n",
       "      <td>1727</td>\n",
       "    </tr>\n",
       "    <tr>\n",
       "      <th>RandomFR</th>\n",
       "      <td>34.66</td>\n",
       "      <td>1.51</td>\n",
       "      <td>1681</td>\n",
       "    </tr>\n",
       "  </tbody>\n",
       "</table>\n",
       "</div>"
      ],
      "text/plain": [
       "          fit_time_sec  pred_time_sec  RMSE\n",
       "CatBoost          3.82           0.03  1727\n",
       "LightGBM        244.89           0.40  1727\n",
       "RandomFR         34.66           1.51  1681"
      ]
     },
     "execution_count": 74,
     "metadata": {},
     "output_type": "execute_result"
    }
   ],
   "source": [
    "pd.DataFrame(list(models),\n",
    "            columns=['fit_time_sec','pred_time_sec','RMSE'],\n",
    "            index=['CatBoost','LightGBM','RandomFR'])"
   ]
  },
  {
   "cell_type": "markdown",
   "id": "09fc2885",
   "metadata": {},
   "source": [
    "### Вывод"
   ]
  },
  {
   "cell_type": "markdown",
   "id": "2eae5955",
   "metadata": {},
   "source": [
    "**Среди используемых моделей лучший показатель RMSE у RandomForestRegressor, в то время как CatBoost показал себя самым быстрым.**\n",
    "\n",
    "**Опираясь на полученные данные считаю CatBoost наиболее привлекательной моделью и по показателям и по времени, так как RMSE от RandomForestRegressor несильно отличается**"
   ]
  },
  {
   "cell_type": "markdown",
   "id": "236e819e",
   "metadata": {},
   "source": [
    "## Тестирование лучшей модели"
   ]
  },
  {
   "cell_type": "markdown",
   "id": "1030cabf",
   "metadata": {},
   "source": [
    "**Рекомендую использовать CatBoost, так как обладает самой высокой скоростью обучения,предсказания и RMSE слабо отличается от лучшего показателя.**"
   ]
  },
  {
   "cell_type": "code",
   "execution_count": 75,
   "id": "a51324e3",
   "metadata": {
    "scrolled": true
   },
   "outputs": [
    {
     "name": "stdout",
     "output_type": "stream",
     "text": [
      "Время обучения(сек):  3.57\n",
      "Время предсказания(сек):  0.01\n",
      "RMSE:  1712\n"
     ]
    }
   ],
   "source": [
    "start=time.time()\n",
    "cat = CatBoostRegressor(loss_function='RMSE',random_seed=RANDOM,silent=True,depth=8,iterations=90,learning_rate=0.5)\n",
    "cat.fit(features_train, target_train)\n",
    "end=time.time()\n",
    "fit_time = round(end-start,2)\n",
    "\n",
    "start=time.time()\n",
    "pred = cat.predict(features_test)\n",
    "end=time.time()\n",
    "pred_time = round(end-start,2)\n",
    "print('Время обучения(сек): ',fit_time)\n",
    "print('Время предсказания(сек): ',pred_time)\n",
    "print('RMSE: ',round(mean_squared_error(target_test, pred) ** .5))"
   ]
  }
 ],
 "metadata": {
  "kernelspec": {
   "display_name": "Python 3 (ipykernel)",
   "language": "python",
   "name": "python3"
  },
  "language_info": {
   "codemirror_mode": {
    "name": "ipython",
    "version": 3
   },
   "file_extension": ".py",
   "mimetype": "text/x-python",
   "name": "python",
   "nbconvert_exporter": "python",
   "pygments_lexer": "ipython3",
   "version": "3.9.13"
  }
 },
 "nbformat": 4,
 "nbformat_minor": 5
}
